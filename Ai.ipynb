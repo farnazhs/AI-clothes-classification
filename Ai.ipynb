{
  "nbformat": 4,
  "nbformat_minor": 0,
  "metadata": {
    "colab": {
      "name": "Untitled0.ipynb",
      "version": "0.3.2",
      "provenance": [],
      "collapsed_sections": []
    },
    "kernelspec": {
      "name": "python3",
      "display_name": "Python 3"
    }
  },
  "cells": [
    {
      "metadata": {
        "id": "SJV6fNT7l4PQ",
        "colab_type": "text"
      },
      "cell_type": "markdown",
      "source": [
        ""
      ]
    },
    {
      "metadata": {
        "id": "PhzJg8ryl_UD",
        "colab_type": "code",
        "outputId": "43782fd5-2cc2-4cf3-a499-e30a38c54a0b",
        "colab": {
          "base_uri": "https://localhost:8080/",
          "height": 168
        }
      },
      "cell_type": "code",
      "source": [
        "!pip install -q -U tensorflow>=1.8.0\n",
        "import tensorflow as tf\n",
        "\n",
        "import numpy as np\n",
        "import matplotlib.pyplot as plt\n",
        "\n",
        "\n",
        "(train_image, train_label), (test_image, test_label) = tf.keras.datasets.fashion_mnist.load_data()\n",
        "\n",
        "print(\"train_image shape:\", train_image.shape, \"train_label shape:\", train_label.shape)"
      ],
      "execution_count": 3,
      "outputs": [
        {
          "output_type": "stream",
          "text": [
            "Downloading data from https://storage.googleapis.com/tensorflow/tf-keras-datasets/train-labels-idx1-ubyte.gz\n",
            "32768/29515 [=================================] - 0s 0us/step\n",
            "Downloading data from https://storage.googleapis.com/tensorflow/tf-keras-datasets/train-images-idx3-ubyte.gz\n",
            "26427392/26421880 [==============================] - 0s 0us/step\n",
            "Downloading data from https://storage.googleapis.com/tensorflow/tf-keras-datasets/t10k-labels-idx1-ubyte.gz\n",
            "8192/5148 [===============================================] - 0s 0us/step\n",
            "Downloading data from https://storage.googleapis.com/tensorflow/tf-keras-datasets/t10k-images-idx3-ubyte.gz\n",
            "4423680/4422102 [==============================] - 0s 0us/step\n",
            "train_image shape: (60000, 28, 28) train_label shape: (60000,)\n"
          ],
          "name": "stdout"
        }
      ]
    },
    {
      "metadata": {
        "id": "mZ3DStBlmUsC",
        "colab_type": "text"
      },
      "cell_type": "markdown",
      "source": [
        ""
      ]
    },
    {
      "metadata": {
        "id": "OyhxD7TgmVSA",
        "colab_type": "code",
        "outputId": "07ae878a-d24e-49a0-ce34-5b1bc087945a",
        "colab": {
          "base_uri": "https://localhost:8080/",
          "height": 431
        }
      },
      "cell_type": "code",
      "source": [
        "# Print training set shape - note there are 60,000 training data of image size of 28x28, 60,000 train labels)\n",
        "print(\"train_image shape:\", train_image.shape, \"train_label shape:\", train_label.shape)\n",
        "\n",
        "\n",
        "print(train_image.shape[0], 'train set')\n",
        "print(test_image.shape[0], 'test set')\n",
        "\n",
        "fashion_mnist_labels = [\"T-shirt/top\",  \n",
        "                        \"Trouser\",      \n",
        "                        \"Pullover\",    \n",
        "                        \"Dress\",        \n",
        "                        \"Coat\",        \n",
        "                        \"Sandal\",       \n",
        "                        \"Shirt\",       \n",
        "                        \"Sneaker\",      \n",
        "                        \"Bag\",          \n",
        "                        \"Ankle boot\"]   \n",
        "\n",
        "# any number between 0 and 59,999\n",
        "img_index = 3\n",
        "# the lables, ranging from 0 to 9\n",
        "label_index = train_label[img_index]\n",
        "\n",
        "print (\"label = \" + str(label_index) + \" \" +(fashion_mnist_labels[label_index]))\n",
        "# Show an image\n",
        "plt.imshow(train_image[img_index])\n",
        "\n",
        "\n"
      ],
      "execution_count": 2,
      "outputs": [
        {
          "output_type": "stream",
          "text": [
            "train_image shape: (60000, 28, 28) train_label shape: (60000,)\n",
            "60000 train set\n",
            "10000 test set\n",
            "label = 1 Trouser\n"
          ],
          "name": "stdout"
        },
        {
          "output_type": "execute_result",
          "data": {
            "text/plain": [
              "<matplotlib.image.AxesImage at 0x7f9a054f5b38>"
            ]
          },
          "metadata": {
            "tags": []
          },
          "execution_count": 2
        },
        {
          "output_type": "display_data",
          "data": {
            "image/png": "[encoded data removed]",
            "text/plain": [
              "<Figure size 576x396 with 1 Axes>"
            ]
          },
          "metadata": {
            "tags": []
          }
        }
      ]
    },
    {
      "metadata": {
        "id": "FaoTF8dz2VQR",
        "colab_type": "text"
      },
      "cell_type": "markdown",
      "source": [
        ""
      ]
    },
    {
      "metadata": {
        "id": "V9VbB3iR2Vkl",
        "colab_type": "code",
        "outputId": "f7ae234b-9944-42ff-cea1-2675764d2fa4",
        "colab": {
          "base_uri": "https://localhost:8080/",
          "height": 50
        }
      },
      "cell_type": "code",
      "source": [
        "train_image = train_image.astype('float32') / 255\n",
        "test_image = test_image.astype('float32') / 255\n",
        "\n",
        "print(\"Number of train data - \" + str(len(train_image)))\n",
        "print(\"Number of test data - \" + str(len(test_image)))\n"
      ],
      "execution_count": 0,
      "outputs": [
        {
          "output_type": "stream",
          "text": [
            "Number of train data - 60000\n",
            "Number of test data - 10000\n"
          ],
          "name": "stdout"
        }
      ]
    },
    {
      "metadata": {
        "id": "IVlDqVzDCx5-",
        "colab_type": "text"
      },
      "cell_type": "markdown",
      "source": [
        ""
      ]
    },
    {
      "metadata": {
        "id": "faPlzoSjCyNg",
        "colab_type": "code",
        "outputId": "8db2e688-22d7-4db3-f61b-29a843b41873",
        "colab": {
          "base_uri": "https://localhost:8080/",
          "height": 84
        }
      },
      "cell_type": "code",
      "source": [
        "#Split the data into train/validation/test data sets\n",
        "(train_image, valid_image) = train_image[5000:], train_image[:5000] \n",
        "(train_label, valid_label) = train_label[5000:], train_label[:5000]\n",
        "\n",
        "\n",
        "w, h = 28, 28\n",
        "train_image = train_image.reshape(train_image.shape[0], w, h, 1)\n",
        "valid_image = valid_image.reshape(valid_image.shape[0], w, h, 1)\n",
        "test_image = test_image.reshape(test_image.shape[0], w, h, 1)\n",
        "\n",
        "\n",
        "train_label = tf.keras.utils.to_categorical(train_label, 10)\n",
        "valid_label = tf.keras.utils.to_categorical(valid_label, 10)\n",
        "test_label = tf.keras.utils.to_categorical(test_label, 10)\n",
        "\n",
        "\n",
        "print(\"train_image shape:\", train_image.shape, \"train_label shape:\", train_label.shape)\n",
        "\n",
        "\n",
        "print(train_image.shape[0], 'train set')\n",
        "print(valid_image.shape[0], 'validation set')\n",
        "print(test_image.shape[0], 'test set')\n",
        "\n"
      ],
      "execution_count": 0,
      "outputs": [
        {
          "output_type": "stream",
          "text": [
            "train_image shape: (55000, 28, 28, 1) train_label shape: (55000, 10)\n",
            "55000 train set\n",
            "5000 validation set\n",
            "10000 test set\n"
          ],
          "name": "stdout"
        }
      ]
    },
    {
      "metadata": {
        "id": "icV_s230J4NL",
        "colab_type": "text"
      },
      "cell_type": "markdown",
      "source": [
        ""
      ]
    },
    {
      "metadata": {
        "id": "-gxePq9hJ4s6",
        "colab_type": "code",
        "outputId": "62c447cb-2f1b-4602-820b-8deeea5de25d",
        "colab": {
          "base_uri": "https://localhost:8080/",
          "height": 67
        }
      },
      "cell_type": "code",
      "source": [
        "model = tf.keras.Sequential()\n",
        "\n",
        "\n",
        "model.add(tf.keras.layers.Conv2D(filters=32, kernel_size=2, padding='same', activation='relu', input_shape=(28,28,1))) \n",
        "print(model.output_shape)\n",
        "print(model.input_shape)\n",
        "model.add(tf.keras.layers.MaxPooling2D(pool_size=2))\n",
        "model.add(tf.keras.layers.Dropout(0.5))\n",
        "\n",
        "model.add(tf.keras.layers.Conv2D(filters=64, kernel_size=2, padding='same', activation='relu'))\n",
        "model.add(tf.keras.layers.MaxPooling2D(pool_size=2))\n",
        "model.add(tf.keras.layers.Dropout(0.3))\n",
        "print(model.output_shape)\n",
        "model.add(tf.keras.layers.Flatten())\n",
        "model.add(tf.keras.layers.Dense(256, activation='relu'))\n",
        "model.add(tf.keras.layers.Dropout(0.5))\n",
        "model.add(tf.keras.layers.Dense(10, activation='softmax'))\n",
        "\n"
      ],
      "execution_count": 0,
      "outputs": [
        {
          "output_type": "stream",
          "text": [
            "(None, 28, 28, 32)\n",
            "(None, 28, 28, 1)\n",
            "(None, 7, 7, 64)\n"
          ],
          "name": "stdout"
        }
      ]
    },
    {
      "metadata": {
        "id": "8MyUSIJbmgjP",
        "colab_type": "text"
      },
      "cell_type": "markdown",
      "source": [
        ""
      ]
    },
    {
      "metadata": {
        "id": "SuOR9zowLKuA",
        "colab_type": "text"
      },
      "cell_type": "markdown",
      "source": [
        ""
      ]
    },
    {
      "metadata": {
        "id": "DgBXIiUNLLSE",
        "colab_type": "code",
        "colab": {}
      },
      "cell_type": "code",
      "source": [
        "model.compile(loss='categorical_crossentropy',\n",
        "             optimizer='adam',\n",
        "             metrics=['accuracy'])"
      ],
      "execution_count": 0,
      "outputs": []
    },
    {
      "metadata": {
        "id": "kJF_Kg5VgaBl",
        "colab_type": "text"
      },
      "cell_type": "markdown",
      "source": [
        ""
      ]
    },
    {
      "metadata": {
        "id": "Obv-mnFOgaRX",
        "colab_type": "code",
        "outputId": "63002156-fab7-4e59-862c-1f8a638b066d",
        "colab": {
          "base_uri": "https://localhost:8080/",
          "height": 370
        }
      },
      "cell_type": "code",
      "source": [
        "from keras.callbacks import ModelCheckpoint\n",
        "\n",
        "checkpointer = ModelCheckpoint(filepath='model.weights.best.hdf5', verbose = 1, save_best_only=True)\n",
        "history=model.fit(train_image,\n",
        "         train_label,\n",
        "         batch_size=64,\n",
        "         epochs=5,\n",
        "         validation_data=(valid_image, valid_label),\n",
        "         callbacks=[checkpointer])"
      ],
      "execution_count": 0,
      "outputs": [
        {
          "output_type": "stream",
          "text": [
            "Train on 55000 samples, validate on 5000 samples\n",
            "Epoch 1/5\n",
            "54976/55000 [============================>.] - ETA: 0s - loss: 0.6146 - acc: 0.7730\n",
            "Epoch 00001: val_loss improved from inf to 0.40605, saving model to model.weights.best.hdf5\n",
            "55000/55000 [==============================] - 71s 1ms/step - loss: 0.6146 - acc: 0.7730 - val_loss: 0.4060 - val_acc: 0.8580\n",
            "Epoch 2/5\n",
            "54976/55000 [============================>.] - ETA: 0s - loss: 0.4419 - acc: 0.8400\n",
            "Epoch 00002: val_loss improved from 0.40605 to 0.33494, saving model to model.weights.best.hdf5\n",
            "55000/55000 [==============================] - 71s 1ms/step - loss: 0.4421 - acc: 0.8399 - val_loss: 0.3349 - val_acc: 0.8810\n",
            "Epoch 3/5\n",
            "54976/55000 [============================>.] - ETA: 0s - loss: 0.3928 - acc: 0.8555\n",
            "Epoch 00003: val_loss improved from 0.33494 to 0.30667, saving model to model.weights.best.hdf5\n",
            "55000/55000 [==============================] - 71s 1ms/step - loss: 0.3928 - acc: 0.8555 - val_loss: 0.3067 - val_acc: 0.8882\n",
            "Epoch 4/5\n",
            "54976/55000 [============================>.] - ETA: 0s - loss: 0.3644 - acc: 0.8680\n",
            "Epoch 00004: val_loss improved from 0.30667 to 0.29228, saving model to model.weights.best.hdf5\n",
            "55000/55000 [==============================] - 72s 1ms/step - loss: 0.3644 - acc: 0.8680 - val_loss: 0.2923 - val_acc: 0.8910\n",
            "Epoch 5/5\n",
            "54976/55000 [============================>.] - ETA: 0s - loss: 0.3439 - acc: 0.8747\n",
            "Epoch 00005: val_loss improved from 0.29228 to 0.27923, saving model to model.weights.best.hdf5\n",
            "55000/55000 [==============================] - 71s 1ms/step - loss: 0.3441 - acc: 0.8747 - val_loss: 0.2792 - val_acc: 0.8964\n"
          ],
          "name": "stdout"
        }
      ]
    },
    {
      "metadata": {
        "id": "CaFZa69cusja",
        "colab_type": "code",
        "outputId": "ec893313-5e76-4841-a846-f3b6cfdda908",
        "colab": {
          "base_uri": "https://localhost:8080/",
          "height": 128
        }
      },
      "cell_type": "code",
      "source": [
        "import matplotlib.pyplot as plt\n",
        "history_dict = history.history\n",
        "loss_values = history_dict['loss']\n",
        "val_loss_values = history_dict['val_loss’]\n",
        "epochs = range(1, len(acc) + 1)\n",
        "plt.plot(epochs, loss_values, 'bo', label='Training loss')\n",
        "plt.plot(epochs, val_loss_values, 'b', label='Validation loss')\n",
        "plt.title('Training and validation loss')\n",
        "plt.xlabel('Epochs')\n",
        "plt.ylabel('Loss')\n",
        "plt.legend()\n",
        "plt.show()"
      ],
      "execution_count": 0,
      "outputs": [
        {
          "output_type": "error",
          "ename": "SyntaxError",
          "evalue": "ignored",
          "traceback": [
            "\u001b[0;36m  File \u001b[0;32m\"<ipython-input-18-d7fb010d1a6b>\"\u001b[0;36m, line \u001b[0;32m4\u001b[0m\n\u001b[0;31m    val_loss_values = history_dict['val_loss’]\u001b[0m\n\u001b[0m                                              ^\u001b[0m\n\u001b[0;31mSyntaxError\u001b[0m\u001b[0;31m:\u001b[0m EOL while scanning string literal\n"
          ]
        }
      ]
    },
    {
      "metadata": {
        "id": "-ldr-gCtmitI",
        "colab_type": "text"
      },
      "cell_type": "markdown",
      "source": [
        ""
      ]
    },
    {
      "metadata": {
        "id": "-y-x2xyRmjIK",
        "colab_type": "code",
        "outputId": "55a73464-fe3d-43b0-ac11-e3fe62080e74",
        "colab": {
          "base_uri": "https://localhost:8080/",
          "height": 50
        }
      },
      "cell_type": "code",
      "source": [
        "model.load_weights('model.weights.best.hdf5')\n",
        "\n",
        "acc = model.evaluate(test_image, test_label, verbose=0)\n",
        "print('\\n', 'Test accuracy:', acc[1])\n"
      ],
      "execution_count": 0,
      "outputs": [
        {
          "output_type": "stream",
          "text": [
            "\n",
            " Test accuracy: 0.8942\n"
          ],
          "name": "stdout"
        }
      ]
    },
    {
      "metadata": {
        "id": "XFPjY6e9T2ow",
        "colab_type": "code",
        "outputId": "125c7841-b111-4534-aacf-d7b6c4afa4e6",
        "colab": {
          "base_uri": "https://localhost:8080/",
          "height": 128
        }
      },
      "cell_type": "code",
      "source": [
        "import matplotlib.pyplot as plt\n",
        "loss = history.history['loss']\n",
        "val_loss = history.history['val_loss’]\n",
        "epochs = range(1, len(loss) + 1)\n",
        "plt.plot(epochs, loss, 'bo', label='Training loss')\n",
        "plt.plot(epochs, val_loss, 'b', label='Validation loss')\n",
        "plt.title('Training and validation loss')\n",
        "plt.xlabel('Epochs')\n",
        "plt.ylabel('Loss')\n",
        "plt.legend()\n",
        "plt.show()"
      ],
      "execution_count": 0,
      "outputs": [
        {
          "output_type": "error",
          "ename": "SyntaxError",
          "evalue": "ignored",
          "traceback": [
            "\u001b[0;36m  File \u001b[0;32m\"<ipython-input-32-d34887280587>\"\u001b[0;36m, line \u001b[0;32m4\u001b[0m\n\u001b[0;31m    val_acc = history.history['val_acc’]\u001b[0m\n\u001b[0m                                        ^\u001b[0m\n\u001b[0;31mSyntaxError\u001b[0m\u001b[0;31m:\u001b[0m EOL while scanning string literal\n"
          ]
        }
      ]
    },
    {
      "metadata": {
        "id": "ssYuEyIWyChf",
        "colab_type": "text"
      },
      "cell_type": "markdown",
      "source": [
        ""
      ]
    },
    {
      "metadata": {
        "id": "gTK-JdHWyC-Y",
        "colab_type": "code",
        "outputId": "941e19b9-6aef-450a-bff3-2c8e724cf962",
        "colab": {
          "base_uri": "https://localhost:8080/",
          "height": 481
        }
      },
      "cell_type": "code",
      "source": [
        "predictions = model.predict(test_image)\n",
        "figure = plt.figure(figsize=(20, 8))\n",
        "for i, index in enumerate(np.random.choice(test_image.shape[0], size=15, replace=False)):\n",
        "    ax = figure.add_subplot(3, 5, i + 1, xticks=[], yticks=[])\n",
        "    #Show image\n",
        "    ax.imshow(np.squeeze(test_image[index]))\n",
        "    predict_index = np.argmax(predictions[index])\n",
        "    true_index = np.argmax(test_label[index])\n",
        "    ax.set_title(\"{} ({})\".format(fashion_mnist_labels[predict_index], \n",
        "                                  fashion_mnist_labels[true_index]),\n",
        "                                  color=(\"green\" if predict_index == true_index else \"red\"))\n"
      ],
      "execution_count": 0,
      "outputs": [
        {
          "output_type": "display_data",
          "data": {
            "image/png": "[encoded data removed]",
            "text/plain": [
              "<Figure size 1440x576 with 15 Axes>"
            ]
          },
          "metadata": {
            "tags": []
          }
        }
      ]
    },
    {
      "metadata": {
        "id": "98Y6gxPy3zJE",
        "colab_type": "text"
      },
      "cell_type": "markdown",
      "source": [
        ""
      ]
    }
  ]
}